{
 "cells": [
  {
   "cell_type": "markdown",
   "id": "6ea78b5f",
   "metadata": {
    "tags": []
   },
   "source": [
    "# Nullstellenbestimmung mit dem Newton-Verfahren\n",
    "\n",
    "## Anselm Hudde\n",
    "\n",
    "![](GodfreyKneller-IsaacNewton-1689.jpg)"
   ]
  },
  {
   "cell_type": "code",
   "execution_count": null,
   "id": "2bda742a-3bc3-4d75-9c5d-867099ff875c",
   "metadata": {
    "slideshow": {
     "slide_type": "-"
    },
    "tags": []
   },
   "outputs": [],
   "source": [
    "%run newton.py"
   ]
  },
  {
   "cell_type": "markdown",
   "id": "2f60667f",
   "metadata": {},
   "source": [
    "# Lernziele\n",
    "\n",
    "- In welchen Anwendungsbereichen kommt die Nullstellensuche vor?\n",
    "\n",
    "- Wie funktioniert das Newton-Verfahren zur Nullstellensuche?\n",
    "\n",
    "- Wie lässt sich das Newton-Verfahren anwenden, um Extrempunkte von Funktionen zu finden?\n",
    "\n",
    "\n",
    "\n",
    "## Beispiele:\n",
    "\n",
    "### (1) Die Wurzel einer Zahl numerisch bestimmen\n",
    "\n",
    "Wir haben eine Zahl $a$ und wollen die Wurzel $\\sqrt{a}$ ausrechnen.\n",
    "Die Wurzel von $a$ ist die Lösung $x$ der Gleichung\n",
    "$$\n",
    "x^2 = a,\n",
    "$$\n",
    "bzw. die Nullstelle der Funktion\n",
    "$$\n",
    "f(x) = x^2 - a.\n",
    "$$"
   ]
  },
  {
   "cell_type": "code",
   "execution_count": null,
   "id": "51098729",
   "metadata": {},
   "outputs": [],
   "source": [
    "x = np.linspace(0, 5, 500)\n",
    "y = x**2 - 5\n",
    "fig = go.Figure()\n",
    "fig.add_scatter(x = x, y = [0]*500, line_color = \"grey\", name ='x=0')\n",
    "fig.add_scatter(x = x, y = y, line_color = \"blue\", name = 'f(x)')\n",
    "fig.add_scatter(x = [np.sqrt(5)], y = [0], line_color = \"red\", name = r'$x^2 = 5$')\n",
    "fig.update_layout(\n",
    "    xaxis_title = 'x',\n",
    "    yaxis_title = 'f(x)',\n",
    "    title = r'$\\text{Die Nullstelle von }f(x) = x^2 - 5 \\text{ ist }\\sqrt{5}$',\n",
    "    title_x = 0.5,\n",
    "    template = 'plotly_white')"
   ]
  },
  {
   "cell_type": "markdown",
   "id": "0182d754",
   "metadata": {},
   "source": [
    "### (2) Den Schnittpunkt von zwei Funktionsgraphen bestimmen\n",
    "\n",
    "Wir wollen einen Wert $x \\in \\mathbb R$ finden, so dass\n",
    "$$\n",
    "\\cos(x^3) = x\n",
    "$$\n",
    "gilt."
   ]
  },
  {
   "cell_type": "code",
   "execution_count": null,
   "id": "abbe073d",
   "metadata": {},
   "outputs": [],
   "source": [
    "x = np.linspace(-3, 3, 500)\n",
    "y = np.cos(x**3)\n",
    "fig = go.Figure()\n",
    "fig.add_scatter(x = x, y = y, name ='r$\\cos(x^3)$')\n",
    "fig.add_scatter(x = x, y = x, name = 'x')\n",
    "fig.update_layout(\n",
    "    xaxis_title = 'x',\n",
    "    yaxis_title = 'f(x)',\n",
    "    title = r'$\\text{Die Funktionsgleichung }\\cos(x^3) = x$',\n",
    "    title_x = 0.5,\n",
    "    template = 'plotly_white')"
   ]
  },
  {
   "cell_type": "markdown",
   "id": "ced6b530",
   "metadata": {},
   "source": [
    "### (3) Das Maximum einer Funktion bestimmen\n",
    "\n",
    "Ein Investor will € $10\\,000$ in ein Portfolio mit zwei verschiedenen Aktien, $A$ and $B$, investieren.\n",
    "\n",
    "- Erwartete jährliche Rendite:\n",
    "\n",
    "    Aktie $A$: $r_{A} = 7\\%$\n",
    "\n",
    "    Aktie $B$: $r_{B} = 9\\%$\n",
    "    \n",
    "    \n",
    "- Volatilitäten:\n",
    "\n",
    "    Aktie $A$: $\\sigma_{A} = 20\\%$\n",
    "\n",
    "    Aktie $B$: $\\sigma_{B} = 30\\%$\n",
    "    \n",
    "    \n",
    "- Korrelation:\n",
    "\n",
    "    $\\rho_{A, B} = 0.2$\n",
    "    \n",
    "Der Investor will bei 100% Investitionsgrad das Risiko minimieren, und das Geld deswegen so investieren, dass die Volatilität (das Risiko) so klein wie möglich wird.\n",
    "\n",
    "Die Volatilität eines Portfolios, welches aus $x \\times 10\\,000$ € in Aktie $A$ und $(1 - x)  \\times 10\\,000$ € in Aktie $B$ besteht, kann folgendermaßen ausgedrückt werden:\n",
    "\n",
    "$$\n",
    "\\sigma_x\n",
    "=\n",
    "\\sqrt{ \\sigma_{A}^2 x^2 + \\sigma_{B}^2 (1 - x)^2 + 2 \\sigma_{A} x \\sigma_{B} (1 - x) \\rho_{A, B}}.\n",
    "$$\n",
    "\n",
    "Unser Ziel ist es, den Wert von $x$ zu finden, für den $\\sigma_x$ minimal wird.\n",
    "Also die Aufteilung des Portfolios in beide Aktien, so dass das Risiko minimiert wird."
   ]
  },
  {
   "cell_type": "code",
   "execution_count": null,
   "id": "b39111aa",
   "metadata": {},
   "outputs": [],
   "source": [
    "x = np.linspace(0, 1, 500)\n",
    "y = np.sqrt(0.2**2 * x**2 + 0.3**2 * (1 - x)**2 + 2*0.2*x * 0.3*(1-x) * 0.2)\n",
    "fig = go.Figure()\n",
    "fig.add_scatter(x = x, y = y, name = r'$\\sigma_x$')\n",
    "fig.update_layout(\n",
    "    xaxis_title = 'Anteil Aktie A',\n",
    "    yaxis_title = 'Volatilität',\n",
    "    title = 'Volatilität in Abhängigkeit vom Investmentgrad in Aktie A',\n",
    "    title_x = 0.5,\n",
    "    showlegend = True,\n",
    "    template = 'plotly_white')"
   ]
  },
  {
   "cell_type": "markdown",
   "id": "4a8dbfab",
   "metadata": {},
   "source": [
    "Es wird noch einfacher, wenn wir die Varianz (die quadrierte Volatilität) des Portfolios\n",
    "\n",
    "$$\n",
    "f(x)\n",
    "=\n",
    "\\sigma^2_x\n",
    "=\n",
    "\\sigma_{A}^2 x^2 + \\sigma_{B}^2 (1 - x)^2 + 2 \\sigma_{A} x \\sigma_{B} (1 - x) \\rho_{A, B}\n",
    "$$\n",
    "minimieren.\n",
    "\n",
    "Unser Ziel ist es, den Wert von $x$ zu finden, für den $f(x)$ minimal wird.\n",
    "Also die Aufteilung des Portfolios in beide Aktien, so dass das Risiko minimiert wird."
   ]
  },
  {
   "cell_type": "code",
   "execution_count": null,
   "id": "acfd8359",
   "metadata": {},
   "outputs": [],
   "source": [
    "x = np.linspace(0, 1, 500)\n",
    "y = 0.2**2 * x**2 + 0.3**2 * (1 - x)**2 + 2*0.2*x * 0.3*(1-x) * 0.2\n",
    "fig.add_scatter(x = x, y = y, name = r'$\\sigma^2_x$')\n",
    "fig.update_layout(\n",
    "    xaxis_title = 'Anteil Aktie A',\n",
    "    yaxis_title = 'Volatilität',\n",
    "    title = 'Volatilität in Abhängigkeit vom Investmentgrad in Aktie A',\n",
    "    title_x = 0.5,\n",
    "    showlegend = True,\n",
    "    template = 'plotly_white')"
   ]
  },
  {
   "cell_type": "markdown",
   "id": "29bb3a6e-f567-4a67-8a00-e22646a019bb",
   "metadata": {
    "slideshow": {
     "slide_type": "-"
    },
    "tags": []
   },
   "source": [
    "## Nullstellensuche für Beispiel (2)\n",
    "\n",
    "Wir wollen die Nullstelle der Gleichung\n",
    "$$\n",
    "\\cos(x^3) - x = 0\n",
    "$$\n",
    "berechnen.\n",
    "Hierzu definieren wir die Funktion\n",
    "$$\n",
    "f(x) = \\cos(x^3) - x,\n",
    "$$\n",
    "und plotten diese:"
   ]
  },
  {
   "cell_type": "code",
   "execution_count": null,
   "id": "4f2039e5",
   "metadata": {},
   "outputs": [],
   "source": [
    "def f(x):\n",
    "    return np.cos(x**3) - x \n",
    "\n",
    "function_plot = plot()\n",
    "function_plot.plot_function(-3,3,f)\n",
    "\n",
    "plot(function_plot)"
   ]
  },
  {
   "cell_type": "markdown",
   "id": "599d3b7e",
   "metadata": {},
   "source": [
    "Um die Nullstelle zu finden, wählen wir einen geeigneten Startpunkt ($x_0 = 0$), und sehen uns das Problem genauer an:"
   ]
  },
  {
   "cell_type": "code",
   "execution_count": null,
   "id": "9b49f8ba",
   "metadata": {},
   "outputs": [],
   "source": [
    "x_0 = 0\n",
    "y_0 = f(x_0)\n",
    "function_plot.add_point(x_0, f)\n",
    "plot(function_plot)"
   ]
  },
  {
   "cell_type": "markdown",
   "id": "5141f11d",
   "metadata": {},
   "source": [
    "Der Wert von $f(0)$ ist"
   ]
  },
  {
   "cell_type": "code",
   "execution_count": null,
   "id": "f2e0a546",
   "metadata": {},
   "outputs": [],
   "source": [
    "y_0 = f(0)\n",
    "y_0"
   ]
  },
  {
   "cell_type": "markdown",
   "id": "8cf78396",
   "metadata": {},
   "source": [
    "Wir sehen, dass wir in nächsten Schritt einen etwas größeren Wert $x_1$ wählen müssen, da die Funktion in der Umgebung von $x_0 = 0$ monoton sinkt.\n",
    "Diese könnten wir auch nachrechnen, indem wir die Ableitung von $f$\n",
    "$$\n",
    "f(x) = \\cos(x^3) - x,\n",
    "$$\n",
    " ausrechnen:\n",
    "$$\n",
    "f'(x) = -3x^2\\sin(x^3) - 1,\n",
    "$$\n",
    "und $x_0=0$ einsetzen:\n",
    "$$\n",
    "f'(0) = -1.\n",
    "$$\n",
    "Damit können wir auch die Tangente im Punkt $x=0$ einzeichnen:"
   ]
  },
  {
   "cell_type": "code",
   "execution_count": null,
   "id": "63ba890b",
   "metadata": {},
   "outputs": [],
   "source": [
    "def df(x):\n",
    "    return -3*x**2 * np.sin(x**3) - 1\n",
    "\n",
    "function_plot_2 = deepcopy(function_plot)\n",
    "\n",
    "function_plot_2.add_tangent(x_0, f, df)\n",
    "plot(function_plot_2)"
   ]
  },
  {
   "cell_type": "markdown",
   "id": "f803afd7",
   "metadata": {},
   "source": [
    "Doch wie weit rücken wir mit $x$ nach rechts?\n",
    "Was ist beste Schrittweite $h$?\n",
    "Der obige Plot zeigt uns, dass der Schnittpunkt der Tangente mit der x-Achse eine gute Näherung ist.\n",
    "Wir müssen also die Gleichung\n",
    "$$\n",
    "f(x) + h f'(x) = 0\n",
    "$$\n",
    "nach $h$ auflösen, und erhalten\n",
    "$$\n",
    "h = - \\frac{f(x)}{f'(x)}\n",
    "$$\n",
    "Wir rechnen den Wert $h$ aus und erhalten:\n",
    "$$\n",
    "h =  - \\frac{f(0)}{f'(0)} = - \\frac{1}{-1} = 1.\n",
    "$$\n",
    "Damit setzen wir\n",
    "$$\n",
    "x_1 = x_0 + h = 0 + 1 = 1.\n",
    "$$"
   ]
  },
  {
   "cell_type": "code",
   "execution_count": null,
   "id": "cd8ea061",
   "metadata": {},
   "outputs": [],
   "source": [
    "i = 1"
   ]
  },
  {
   "cell_type": "markdown",
   "id": "5a37a053",
   "metadata": {},
   "source": [
    "Die folgende Zeile kann man mehrmals hintereinander ausführen, und so beobachten, wie das Verfahren konvergiert."
   ]
  },
  {
   "cell_type": "code",
   "execution_count": null,
   "id": "4dea568d",
   "metadata": {},
   "outputs": [],
   "source": [
    "function_plot.add_newton_iteration(x_0, f, df, Iterationen = i)\n",
    "i += 1\n",
    "\n",
    "plot(function_plot)"
   ]
  },
  {
   "cell_type": "markdown",
   "id": "7150dd6f",
   "metadata": {},
   "source": [
    "Wenn wir diese Schritte wiederholen, konvergiert das Verfahren schließlich zur Nullstelle der Funktion $f$:\n",
    ">### Newton-Verfahren zur Nullstellensuche\n",
    ">\n",
    ">**Wähle:** Startwert $x_0$\n",
    ">\n",
    "> **In Schritt $i = 1, \\dots, N$ rechne**\n",
    ">\n",
    "> $$\n",
    "x_{i+1} = x_i - \\frac{f(x_i)}{f'(x_i)}.\n",
    "$$"
   ]
  },
  {
   "cell_type": "markdown",
   "id": "3f2ef27e",
   "metadata": {},
   "source": [
    "## Wahl des Anfangswerts\n",
    "\n",
    "Nicht für jeden Anfangswert ist das Newton-Verfahren erfolgreich."
   ]
  },
  {
   "cell_type": "code",
   "execution_count": null,
   "id": "4e34b3b1",
   "metadata": {},
   "outputs": [],
   "source": [
    "function_plot = plot()\n",
    "function_plot.plot_function(-3, 3, f)\n",
    "plot(function_plot)"
   ]
  },
  {
   "cell_type": "markdown",
   "id": "75859786",
   "metadata": {},
   "source": [
    "In der folgenden Zeile legen wir einen Startwert x_0 fest:"
   ]
  },
  {
   "cell_type": "code",
   "execution_count": null,
   "id": "36f099ec",
   "metadata": {},
   "outputs": [],
   "source": [
    "x_0 = -1.5\n",
    "i = 1"
   ]
  },
  {
   "cell_type": "code",
   "execution_count": null,
   "id": "7b647564",
   "metadata": {},
   "outputs": [],
   "source": [
    "function_plot.add_newton_iteration(x_0, f, df, Iterationen = i)\n",
    "i += 1\n",
    "\n",
    "plot(function_plot)"
   ]
  },
  {
   "cell_type": "markdown",
   "id": "94ca3e6b",
   "metadata": {},
   "source": [
    "## Was läuft hier schief?\n",
    "\n",
    "Der Wert der Ableitung $f'(x)$ verändert sich sehr schnell, weshalb die Approximation über die erste Ableitung\n",
    "\n",
    "$$\n",
    "f(x + h) \\not\\approx f(x) + h f'(x)\n",
    "$$\n",
    "\n",
    "nicht mehr gut funktioniert.\n",
    "Das Newton-Verfahren basiert aber auf der Annahme, dass sich $f$ in einer Umgebung von $x_0$ gut durch die Tangente in $x_0$ approximieren lässt, also\n",
    "\n",
    "$$\n",
    "f(x_0 + h) \\approx f(x_0) + h f'(x_0).\n",
    "$$\n",
    "\n",
    "In diesem Fall funktioniert dies aber nicht, da sich der Wert der Ableitung zu sehr verändert.\n",
    "Die zweite  Ableitung von $f$\n",
    "\n",
    "$$\n",
    "f''(x)\n",
    "=\n",
    "\\frac{d}{dx} \\left( -3x^2 \\sin(x^3) - 1 \\right)\n",
    "=\n",
    "-6x \\sin(x^3) - 9x^4 \\cos(x^3)\n",
    "$$\n",
    "\n",
    "nimmt in $x = -1.5$ den sehr hohen Wert"
   ]
  },
  {
   "cell_type": "code",
   "execution_count": null,
   "id": "1b669663",
   "metadata": {},
   "outputs": [],
   "source": [
    "def ddf(x):\n",
    "    return -6*x*np.sin(x**3) - 9*x**4*np.cos(x**3)\n",
    "\n",
    "print('f''(-1.5) = ' + str(round(ddf(-1.5), 2)))"
   ]
  },
  {
   "cell_type": "markdown",
   "id": "6a909371",
   "metadata": {},
   "source": [
    "an.\n",
    "\n",
    "Wir können dies auch präzise als Kriterium formulieren:\n",
    "> ## Konvergenzkriterium\n",
    ">\n",
    ">\n",
    "> Das Newton-Verfahren konvergiert, wenn für den Startwert $x_0$ und alle Folgenden Werte $x_i$ die Ungleichung\n",
    ">\n",
    "> $$\n",
    "\\left| \\frac{f(x_i) f''(x_i)}{f'(x_i)^2} \\right| < 1,~~i = 0, 1, 2, \\dots\n",
    "$$\n",
    ">\n",
    "> erfüllt ist."
   ]
  },
  {
   "cell_type": "markdown",
   "id": "a1862434",
   "metadata": {},
   "source": [
    "## Anwendung in der Optimierung: Beispiel (3) – Extremwert einer Funktion\n",
    "\n",
    "Für eine strikt positive Funktion $f \\geq 0$ lässt sich das Newton-Verfahren auch zum Finden eines Minimums anwenden.\n",
    "Wir kehren hierfür zum Eingangsbeispiel zurück:\n",
    "\n",
    "$$\n",
    "f (x)\n",
    "=\n",
    "\\sigma_{A}^2 x^2 + \\sigma_{B}^2 (1 - x)^2 + 2 \\sigma_{A} x \\sigma_{B} (1 - x) \\rho_{A, B}.\n",
    "$$\n",
    "\n",
    "Unser Ziel ist es, den Wert von $x$ zu finden, für den $f(x)$ minimal wird."
   ]
  },
  {
   "cell_type": "code",
   "execution_count": null,
   "id": "c52e8269",
   "metadata": {},
   "outputs": [],
   "source": [
    "def f(x):\n",
    "    return 0.2**2 * x**2 + 0.3**2 * (1 - x)**2 + 2*0.2*x * 0.3*(1-x) * 0.2"
   ]
  },
  {
   "cell_type": "code",
   "execution_count": null,
   "id": "ac3adf16",
   "metadata": {},
   "outputs": [],
   "source": [
    "function_plot = plot()\n",
    "function_plot.plot_function(0,1,f)\n",
    "\n",
    "i = 1;\n",
    "plot(function_plot)"
   ]
  },
  {
   "cell_type": "markdown",
   "id": "fca6c8d3",
   "metadata": {},
   "source": [
    "Hier können wir die Ableitung $f'(x)$ der Funktion $f$ berechnen, und die Nullstelle von $f'$ bestimmen.\n",
    "Dies ist dann das Minimum von $f$.\n",
    "\n",
    "\n",
    "## Newton-Verfahren zur Bestimmung eines Minimums\n",
    "\n",
    "Wir benötigen also einen Startwert $x_0$, und in jedem Schritt rechnen wir\n",
    "\n",
    "$$\n",
    "x_{i+1} = x_i - \\frac{f'(x_i)}{f''(x_i)}.\n",
    "$$\n",
    "\n",
    "Die ersten beiden Ableitungen von $f$ sind\n",
    "\n",
    "$$\n",
    "\\begin{aligned}\n",
    "f'(x)\n",
    "&=\n",
    "2 \\sigma_A^2 x + 2 \\sigma_B^2 (x - 1) + 2 \\sigma_A \\sigma_B \\rho_{A, B} (1 - 2x) \\\\\n",
    "f''(x)\n",
    "&=\n",
    "2 \\sigma_A^2 + 2 \\sigma_B^2 - 4 \\sigma_A \\sigma_B \\rho_{A, B}\n",
    "\\end{aligned}\n",
    "$$"
   ]
  },
  {
   "cell_type": "code",
   "execution_count": null,
   "id": "dfc945b6",
   "metadata": {},
   "outputs": [],
   "source": [
    "def df(x):\n",
    "    return 2*0.2**2*x + 2*0.3**2*(x-1) + 2*0.2*0.3*0.2*(1-2*x)\n",
    "\n",
    "def ddf(x):\n",
    "    return 2*0.2**2 + 2*0.3**2 - 4*0.2*0.3*0.2\n",
    "\n",
    "i = 1\n",
    "x_0 = 0"
   ]
  },
  {
   "cell_type": "code",
   "execution_count": null,
   "id": "41fcb0f6",
   "metadata": {},
   "outputs": [],
   "source": [
    "function_plot.add_newton_iteration_extremum(x_0, f, df, ddf, Iterationen = i)\n",
    "i += 1\n",
    "\n",
    "plot(function_plot)"
   ]
  },
  {
   "cell_type": "markdown",
   "id": "f4b85a60",
   "metadata": {},
   "source": [
    "In diesem Fall liefert das Newton-Verfahren sogar schon nach einer Iteration die richtige Lösung.\n",
    "\n",
    "## Anwendung in der Optimierung: Lokales und globales Minimum\n",
    "\n",
    "Eine weiteres Beispiel ist die Funktion\n",
    "$$\n",
    "f(x) = x^4 - 4x^2 + x.\n",
    "$$\n",
    "Wir plotten die Funktion zuerst:"
   ]
  },
  {
   "cell_type": "code",
   "execution_count": null,
   "id": "363efb96",
   "metadata": {},
   "outputs": [],
   "source": [
    "def f(x):\n",
    "    return x**4 - 4*x**2 + x\n",
    "\n",
    "function_plot = plot()\n",
    "function_plot.plot_function(-3,3,f)\n",
    "\n",
    "function_plot.update_layout(\n",
    "    xaxis_title = 'x',\n",
    "    title = r'$f(x) = x^4 - 4x^2 + x$',\n",
    "    title_x = 0.5,\n",
    "    showlegend = True,\n",
    "    template = 'plotly_white')\n",
    "\n",
    "plot(function_plot)"
   ]
  },
  {
   "cell_type": "markdown",
   "id": "b82d1d64",
   "metadata": {},
   "source": [
    "Wir sehen, dass die Funktion zwei lokale Minima hat, wobei das globale Minimum links der $y$-Achse liegt.\n",
    "\n",
    "Wir leiten die Funktion ab:\n",
    "\n",
    "$$\n",
    "f'(x) = 4x^3 - 8x + 1.\n",
    "$$\n",
    "\n",
    "Die Nullstelle dieser Ableitung zu finden kann sehr schwierig sein.\n",
    "Das Newton-Verfahren funktioniert hier allerdings sehr gut.\n",
    "Dazu bestimmen wir auch die zweite Ableitung:\n",
    "\n",
    "$$\n",
    "f''(x) = 12x^3 - 8.\n",
    "$$"
   ]
  },
  {
   "cell_type": "code",
   "execution_count": null,
   "id": "67b3a9bb",
   "metadata": {},
   "outputs": [],
   "source": [
    "def df(x):\n",
    "    return 4*x**3 - 8*x + 1\n",
    "\n",
    "def ddf(x):\n",
    "    return 12*x**2 - 8\n",
    "\n",
    "x_0 = -1\n",
    "i = 1"
   ]
  },
  {
   "cell_type": "code",
   "execution_count": null,
   "id": "d4472aba",
   "metadata": {},
   "outputs": [],
   "source": [
    "function_plot.add_newton_iteration_extremum(x_0, f, df, ddf, Iterationen = i)\n",
    "i += 1\n",
    "\n",
    "plot(function_plot)"
   ]
  },
  {
   "cell_type": "markdown",
   "id": "c7f56427",
   "metadata": {},
   "source": [
    "In diesem Fall ist auch die Wahl eines geeigneten Startwerts sehr wichtig, wie wir anhand des Startwerts $x_0 = 1$ sehen:"
   ]
  },
  {
   "cell_type": "code",
   "execution_count": null,
   "id": "5e5bf3a1",
   "metadata": {},
   "outputs": [],
   "source": [
    "x_0 = 1\n",
    "i = 1"
   ]
  },
  {
   "cell_type": "code",
   "execution_count": null,
   "id": "10ed523a",
   "metadata": {},
   "outputs": [],
   "source": [
    "function_plot.add_newton_iteration_extremum(x_0, f, df, ddf, Iterationen = i, color = \"green\")\n",
    "i += 1\n",
    "\n",
    "plot(function_plot)"
   ]
  },
  {
   "cell_type": "markdown",
   "id": "39148f36-835e-4ef2-9073-5764c20f03f1",
   "metadata": {},
   "source": [
    "## Das Newton-Verfahren mit `scipy`\n",
    "\n",
    "Meistens lohnt es sich, das Newton-Verfahren nicht selbst zu implementieren, sondern auf bestehende Pakete zurückzugreifen.\n",
    "Das Python-Paket `scipy` hat dafür die Funktion `newton`.\n",
    "Es reicht hierbei aus, die zu minimierende Funktion anzugeben."
   ]
  },
  {
   "cell_type": "code",
   "execution_count": null,
   "id": "1739a455",
   "metadata": {
    "tags": []
   },
   "outputs": [],
   "source": [
    "# Mit Scipy optimieren\n",
    "import numpy as np\n",
    "from scipy.optimize import newton\n",
    "\n",
    "def f(x):\n",
    "    return np.sin(x[0]) + 0.05*x[0]**2\n",
    "\n",
    "newton(func=f, x0=np.array([-4]))"
   ]
  },
  {
   "cell_type": "markdown",
   "id": "d914b069",
   "metadata": {},
   "source": [
    "## Das Newton-Verfahren in der mehrdimensionalen Optimierung\n",
    "\n",
    "Hierzu betrachten wir die Funktion\n",
    "\n",
    "$$\n",
    "f(x_{1}, x_{2}) = \\sin(x_{1} + 0.1 x_{2}^2) + 0.05 x_{1}^2,\n",
    "$$\n",
    "\n",
    "und plotten sie:"
   ]
  },
  {
   "cell_type": "code",
   "execution_count": null,
   "id": "cc355681",
   "metadata": {},
   "outputs": [],
   "source": [
    "def f(x):\n",
    "    return np.sin(x[0] + 0.1*x[1]**2) + 0.05*x[0]**2\n",
    "\n",
    "surface_plot = plot()\n",
    "surface_plot.plot_surface(-3,0,-2,2,f)\n",
    "\n",
    "contour_plot = plot()\n",
    "contour_plot.plot_contour(-3,0,-2,2,f)\n",
    "\n",
    "show_plot(contour_plot, surface_plot)"
   ]
  },
  {
   "cell_type": "markdown",
   "id": "2cbc58fd",
   "metadata": {},
   "source": [
    ">### Newton-Verfahren zur Extremwertsuche im mehrdimensionalen\n",
    ">\n",
    ">**Wähle:** Startwert $x_0$\n",
    ">\n",
    "> **In Schritt $i = 1, \\dots, N$ rechne**\n",
    "$$\n",
    "x_{i+1} = x_i - \\left( H_f(x_i) \\right)^{-1} J_f(x_i)\n",
    "$$\n",
    "\n",
    "### $J_f$ und $H_f$ berechnen\n",
    "\n",
    "Die Ableitung $J_f$ von $\\sin(x_{1} + 0.1 x_{2}^2) + 0.05 x_{1}^2$ ist:\n",
    "\n",
    "\\begin{equation}\n",
    "J_f(x_{1}, x_{2})\n",
    "=\n",
    "\\begin{pmatrix}\n",
    "\\frac{\\partial f}{\\partial x_{1}} \\\\ \\frac{\\partial f}{\\partial x_{2}} \\end{pmatrix}\n",
    "=\n",
    "\\begin{pmatrix}\n",
    "\\cos(x_{1} + 0.1 x_{2}^2) + 0.1 x_{1} \\\\\n",
    "0.2 x_{2} \\cos(x_{1} + 0.1 x_{2}^2)\n",
    "\\end{pmatrix}\n",
    "\\end{equation}\n",
    "\n"
   ]
  },
  {
   "cell_type": "markdown",
   "id": "2acdd6ef",
   "metadata": {},
   "source": [
    "Hier lässt sich dann die Hesse-Matrix als\n",
    "\n",
    "$$\n",
    "H_f(x_1, x_2) =\n",
    "\\begin{pmatrix}\n",
    "\\frac{\\partial^2 f}{\\partial x_1^2} & \\frac{\\partial^2 f}{\\partial x_1 \\partial x_2} \\\\\n",
    "\\frac{\\partial^2 f}{\\partial x_2 \\partial x_1} & \\frac{\\partial^2 f}{\\partial x_2^2} \\\\\n",
    "\\end{pmatrix}\n",
    "=\n",
    "\\begin{pmatrix}\n",
    "-\\sin(x_1 + 0.1 x_{2}^2) + 0.1 & -0.2x_2 \\sin(x_1 + 0.1x_2^2)\\\\\n",
    "-0.2x_2 \\sin(x_1 + 0.1x_2^2) & 0.2 \\cos(x_1 + 0.1 x_2^2)  -0.04 x_2^2 \\sin(x_1 + 0.1 x_2^2) \\\\\n",
    "\\end{pmatrix}\n",
    "$$\n",
    "\n",
    "berechnen."
   ]
  },
  {
   "cell_type": "code",
   "execution_count": null,
   "id": "30ab7fad",
   "metadata": {},
   "outputs": [],
   "source": [
    "x_0 = [-2, -1]\n",
    "i = 1\n",
    "\n",
    "def grad_f(x):\n",
    "    return np.array([np.cos(x[0] + 0.1*x[1]**2) + 0.1*x[0], 0.2*x[1]*np.cos(x[0] + 0.1*x[1]**2)])\n",
    "\n",
    "def hess_f(x):\n",
    "    return np.array([[-np.sin(x[0] + 0.1*x[1]**2) + 0.1, -0.2*x[1]*np.sin(x[0] + 0.1*x[1]**2)],\n",
    "                     [-0.2*x[1]*np.sin(x[0] + 0.1*x[1]**2), 0.2*np.cos(x[0] + 0.1*x[1]**2) - 0.04*x[1]**2*np.sin(x[0] + 0.1*x[1]**2)]])"
   ]
  },
  {
   "cell_type": "code",
   "execution_count": null,
   "id": "31b430c5",
   "metadata": {
    "scrolled": false
   },
   "outputs": [],
   "source": [
    "contour_plot.newton_iteration_contour(x0=x_0, function = f, grad=grad_f, hessian=hess_f, gamma=1, Iterationen=i,\n",
    "                                      color = \"#636EFA\")\n",
    "surface_plot.newton_iteration_surface(x0=x_0, function = f, grad=grad_f, hessian=hess_f, gamma=1, Iterationen=i,\n",
    "                                      color = \"#636EFA\")\n",
    "i += 1\n",
    "\n",
    "show_plot(contour_plot, surface_plot)"
   ]
  }
 ],
 "metadata": {
  "interpreter": {
   "hash": "92f23b4ac9a1ac0aabac2a5fe090cf874f268b01de51ad4092840717b54c19ba"
  },
  "kernelspec": {
   "display_name": "Python 3 (ipykernel)",
   "language": "python",
   "name": "python3"
  },
  "language_info": {
   "codemirror_mode": {
    "name": "ipython",
    "version": 3
   },
   "file_extension": ".py",
   "mimetype": "text/x-python",
   "name": "python",
   "nbconvert_exporter": "python",
   "pygments_lexer": "ipython3",
   "version": "3.9.13"
  }
 },
 "nbformat": 4,
 "nbformat_minor": 5
}
